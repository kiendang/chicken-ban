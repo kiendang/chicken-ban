{
 "cells": [
  {
   "cell_type": "code",
   "execution_count": null,
   "id": "4b555d17-ae43-49bc-8674-0c34b263a79d",
   "metadata": {},
   "outputs": [],
   "source": [
    "%load_ext dotenv\n",
    "%dotenv ../.env"
   ]
  },
  {
   "cell_type": "code",
   "execution_count": null,
   "id": "15d42344-bdb8-4a77-a9cb-cb273dabb490",
   "metadata": {},
   "outputs": [],
   "source": [
    "import os\n",
    "import json\n",
    "from pathlib import Path\n",
    "\n",
    "import praw"
   ]
  },
  {
   "cell_type": "code",
   "execution_count": null,
   "id": "a0355d24-ce5a-4b5a-a722-419e1896481b",
   "metadata": {},
   "outputs": [],
   "source": [
    "reddit = praw.Reddit(\n",
    "    client_id=os.environ['REDDIT_CLIENT_ID'],\n",
    "    client_secret=os.environ['REDDIT_SECRET'],\n",
    "    user_agent='chicken ban data collection script'\n",
    ")"
   ]
  },
  {
   "cell_type": "code",
   "execution_count": null,
   "id": "43c72b90",
   "metadata": {},
   "outputs": [],
   "source": [
    "r_singapore = reddit.subreddit('singapore')"
   ]
  },
  {
   "cell_type": "code",
   "execution_count": null,
   "id": "7231250d",
   "metadata": {},
   "outputs": [],
   "source": [
    "search_results = r_singapore.search('chicken ban')"
   ]
  },
  {
   "cell_type": "code",
   "execution_count": null,
   "id": "fc3df26b",
   "metadata": {},
   "outputs": [],
   "source": [
    "data = [\n",
    "    {\n",
    "        \"id\": r.id,\n",
    "        \"title\": r.title,\n",
    "        \"url\": r.url,\n",
    "        \"created\": r.created_utc,\n",
    "        \"upvotes\": r.ups,\n",
    "        \"upvote-ratio\": r.upvote_ratio,\n",
    "        \"submission-url\": f\"https://reddit.com/r/singapore/comments/{r.id}\",\n",
    "        \"comments\": [\n",
    "            {\n",
    "                \"id\": c.id,\n",
    "                \"body\": c.body,\n",
    "                \"upvotes\": c.ups\n",
    "            } for c in r.comments\n",
    "        ]\n",
    "    }\n",
    "    for r in search_results\n",
    "]"
   ]
  },
  {
   "cell_type": "code",
   "execution_count": null,
   "id": "bd44a144",
   "metadata": {},
   "outputs": [],
   "source": [
    "with open(Path('..', 'data', 'reddit-data.json'), 'w') as f:\n",
    "    json.dump(data, f)"
   ]
  },
  {
   "cell_type": "code",
   "execution_count": null,
   "id": "f2f14450",
   "metadata": {},
   "outputs": [],
   "source": [
    "# with open(Path('..', 'data', 'reddit-data.json'), 'r') as f:\n",
    "#     data = json.load(f)"
   ]
  },
  {
   "cell_type": "code",
   "execution_count": null,
   "id": "75c2e4da",
   "metadata": {},
   "outputs": [],
   "source": [
    "# data = [\n",
    "#     {**r, 'created_at': praw.models.Submission(reddit, r['id']).created_utc}\n",
    "#     for r in data\n",
    "# ]"
   ]
  }
 ],
 "metadata": {
  "kernelspec": {
   "display_name": "Chicken Ban",
   "language": "python",
   "name": "chicken-ban"
  },
  "language_info": {
   "codemirror_mode": {
    "name": "ipython",
    "version": 3
   },
   "file_extension": ".py",
   "mimetype": "text/x-python",
   "name": "python",
   "nbconvert_exporter": "python",
   "pygments_lexer": "ipython3",
   "version": "3.9.12"
  }
 },
 "nbformat": 4,
 "nbformat_minor": 5
}
