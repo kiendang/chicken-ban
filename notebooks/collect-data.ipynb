{
 "cells": [
  {
   "cell_type": "code",
   "execution_count": null,
   "id": "4b555d17-ae43-49bc-8674-0c34b263a79d",
   "metadata": {},
   "outputs": [],
   "source": [
    "%load_ext dotenv\n",
    "%dotenv ../.env"
   ]
  },
  {
   "cell_type": "code",
   "execution_count": null,
   "id": "15d42344-bdb8-4a77-a9cb-cb273dabb490",
   "metadata": {},
   "outputs": [],
   "source": [
    "import os\n",
    "os.environ['REDDIT_SECRET']"
   ]
  },
  {
   "cell_type": "code",
   "execution_count": null,
   "id": "a0355d24-ce5a-4b5a-a722-419e1896481b",
   "metadata": {},
   "outputs": [],
   "source": []
  }
 ],
 "metadata": {
  "kernelspec": {
   "display_name": "Chicken Ban",
   "language": "python",
   "name": "chicken-ban"
  },
  "language_info": {
   "codemirror_mode": {
    "name": "ipython",
    "version": 3
   },
   "file_extension": ".py",
   "mimetype": "text/x-python",
   "name": "python",
   "nbconvert_exporter": "python",
   "pygments_lexer": "ipython3",
   "version": "3.9.12"
  }
 },
 "nbformat": 4,
 "nbformat_minor": 5
}
